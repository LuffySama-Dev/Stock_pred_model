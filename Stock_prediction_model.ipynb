{
  "nbformat": 4,
  "nbformat_minor": 0,
  "metadata": {
    "colab": {
      "name": "Stock_prediction_model.ipynb",
      "provenance": [],
      "collapsed_sections": [],
      "authorship_tag": "ABX9TyNAN2+Jb6brOUuhpIBJv9ay",
      "include_colab_link": true
    },
    "kernelspec": {
      "name": "python3",
      "display_name": "Python 3"
    }
  },
  "cells": [
    {
      "cell_type": "markdown",
      "metadata": {
        "id": "view-in-github",
        "colab_type": "text"
      },
      "source": [
        "<a href=\"https://colab.research.google.com/github/Saurabhpatil-dev/Stock_pred_model/blob/main/Stock_prediction_model.ipynb\" target=\"_parent\"><img src=\"https://colab.research.google.com/assets/colab-badge.svg\" alt=\"Open In Colab\"/></a>"
      ]
    },
    {
      "cell_type": "markdown",
      "metadata": {
        "id": "gAQKzB34Z-Uk"
      },
      "source": [
        "#                      Stock Prediction Model\r\n",
        "##Description : This program uses an artificial recurrent neural network called Long Short Term Memory (LSTM) to predict the closing stock price of a coopration (Apple inc.) using the past 60 day stock price."
      ]
    },
    {
      "cell_type": "markdown",
      "metadata": {
        "id": "Ox9zPSePaqFS"
      },
      "source": [
        "## Import the required packages"
      ]
    },
    {
      "cell_type": "code",
      "metadata": {
        "id": "eOQWZd-eaJs7"
      },
      "source": [
        "import math\r\n",
        "import pandas_datareader as web\r\n",
        "import numpy as np\r\n",
        "import pandas as pd\r\n",
        "from sklearn.preprocessing import MinMaxScaler\r\n",
        "from keras.models import Sequential\r\n",
        "from keras.layers import Dense, LSTM\r\n",
        "import matplotlib.pyplot as plt\r\n",
        "plt.style.use('fivethirtyeight')"
      ],
      "execution_count": null,
      "outputs": []
    },
    {
      "cell_type": "markdown",
      "metadata": {
        "id": "mYIgdSEFcF0J"
      },
      "source": [
        "##Get the stock quote and show it"
      ]
    },
    {
      "cell_type": "code",
      "metadata": {
        "colab": {
          "base_uri": "https://localhost:8080/",
          "height": 450
        },
        "id": "pARO0-zObt8O",
        "outputId": "01aad06a-9849-408e-92ea-45ec08a6c819"
      },
      "source": [
        "df = web.DataReader('AAPL', data_source='yahoo', start='2012-01-01', end='2020-01-07')\r\n",
        "df"
      ],
      "execution_count": null,
      "outputs": [
        {
          "output_type": "execute_result",
          "data": {
            "text/html": [
              "<div>\n",
              "<style scoped>\n",
              "    .dataframe tbody tr th:only-of-type {\n",
              "        vertical-align: middle;\n",
              "    }\n",
              "\n",
              "    .dataframe tbody tr th {\n",
              "        vertical-align: top;\n",
              "    }\n",
              "\n",
              "    .dataframe thead th {\n",
              "        text-align: right;\n",
              "    }\n",
              "</style>\n",
              "<table border=\"1\" class=\"dataframe\">\n",
              "  <thead>\n",
              "    <tr style=\"text-align: right;\">\n",
              "      <th></th>\n",
              "      <th>High</th>\n",
              "      <th>Low</th>\n",
              "      <th>Open</th>\n",
              "      <th>Close</th>\n",
              "      <th>Volume</th>\n",
              "      <th>Adj Close</th>\n",
              "    </tr>\n",
              "    <tr>\n",
              "      <th>Date</th>\n",
              "      <th></th>\n",
              "      <th></th>\n",
              "      <th></th>\n",
              "      <th></th>\n",
              "      <th></th>\n",
              "      <th></th>\n",
              "    </tr>\n",
              "  </thead>\n",
              "  <tbody>\n",
              "    <tr>\n",
              "      <th>2012-01-03</th>\n",
              "      <td>14.732143</td>\n",
              "      <td>14.607143</td>\n",
              "      <td>14.621429</td>\n",
              "      <td>14.686786</td>\n",
              "      <td>302220800.0</td>\n",
              "      <td>12.669562</td>\n",
              "    </tr>\n",
              "    <tr>\n",
              "      <th>2012-01-04</th>\n",
              "      <td>14.810000</td>\n",
              "      <td>14.617143</td>\n",
              "      <td>14.642857</td>\n",
              "      <td>14.765714</td>\n",
              "      <td>260022000.0</td>\n",
              "      <td>12.737653</td>\n",
              "    </tr>\n",
              "    <tr>\n",
              "      <th>2012-01-05</th>\n",
              "      <td>14.948214</td>\n",
              "      <td>14.738214</td>\n",
              "      <td>14.819643</td>\n",
              "      <td>14.929643</td>\n",
              "      <td>271269600.0</td>\n",
              "      <td>12.879066</td>\n",
              "    </tr>\n",
              "    <tr>\n",
              "      <th>2012-01-06</th>\n",
              "      <td>15.098214</td>\n",
              "      <td>14.972143</td>\n",
              "      <td>14.991786</td>\n",
              "      <td>15.085714</td>\n",
              "      <td>318292800.0</td>\n",
              "      <td>13.013701</td>\n",
              "    </tr>\n",
              "    <tr>\n",
              "      <th>2012-01-09</th>\n",
              "      <td>15.276786</td>\n",
              "      <td>15.048214</td>\n",
              "      <td>15.196429</td>\n",
              "      <td>15.061786</td>\n",
              "      <td>394024400.0</td>\n",
              "      <td>12.993060</td>\n",
              "    </tr>\n",
              "    <tr>\n",
              "      <th>...</th>\n",
              "      <td>...</td>\n",
              "      <td>...</td>\n",
              "      <td>...</td>\n",
              "      <td>...</td>\n",
              "      <td>...</td>\n",
              "      <td>...</td>\n",
              "    </tr>\n",
              "    <tr>\n",
              "      <th>2019-12-31</th>\n",
              "      <td>73.419998</td>\n",
              "      <td>72.379997</td>\n",
              "      <td>72.482498</td>\n",
              "      <td>73.412498</td>\n",
              "      <td>100805600.0</td>\n",
              "      <td>72.783936</td>\n",
              "    </tr>\n",
              "    <tr>\n",
              "      <th>2020-01-02</th>\n",
              "      <td>75.150002</td>\n",
              "      <td>73.797501</td>\n",
              "      <td>74.059998</td>\n",
              "      <td>75.087502</td>\n",
              "      <td>135480400.0</td>\n",
              "      <td>74.444603</td>\n",
              "    </tr>\n",
              "    <tr>\n",
              "      <th>2020-01-03</th>\n",
              "      <td>75.144997</td>\n",
              "      <td>74.125000</td>\n",
              "      <td>74.287498</td>\n",
              "      <td>74.357498</td>\n",
              "      <td>146322800.0</td>\n",
              "      <td>73.720840</td>\n",
              "    </tr>\n",
              "    <tr>\n",
              "      <th>2020-01-06</th>\n",
              "      <td>74.989998</td>\n",
              "      <td>73.187500</td>\n",
              "      <td>73.447502</td>\n",
              "      <td>74.949997</td>\n",
              "      <td>118387200.0</td>\n",
              "      <td>74.308266</td>\n",
              "    </tr>\n",
              "    <tr>\n",
              "      <th>2020-01-07</th>\n",
              "      <td>75.224998</td>\n",
              "      <td>74.370003</td>\n",
              "      <td>74.959999</td>\n",
              "      <td>74.597504</td>\n",
              "      <td>108872000.0</td>\n",
              "      <td>73.958794</td>\n",
              "    </tr>\n",
              "  </tbody>\n",
              "</table>\n",
              "<p>2016 rows × 6 columns</p>\n",
              "</div>"
            ],
            "text/plain": [
              "                 High        Low       Open      Close       Volume  Adj Close\n",
              "Date                                                                          \n",
              "2012-01-03  14.732143  14.607143  14.621429  14.686786  302220800.0  12.669562\n",
              "2012-01-04  14.810000  14.617143  14.642857  14.765714  260022000.0  12.737653\n",
              "2012-01-05  14.948214  14.738214  14.819643  14.929643  271269600.0  12.879066\n",
              "2012-01-06  15.098214  14.972143  14.991786  15.085714  318292800.0  13.013701\n",
              "2012-01-09  15.276786  15.048214  15.196429  15.061786  394024400.0  12.993060\n",
              "...               ...        ...        ...        ...          ...        ...\n",
              "2019-12-31  73.419998  72.379997  72.482498  73.412498  100805600.0  72.783936\n",
              "2020-01-02  75.150002  73.797501  74.059998  75.087502  135480400.0  74.444603\n",
              "2020-01-03  75.144997  74.125000  74.287498  74.357498  146322800.0  73.720840\n",
              "2020-01-06  74.989998  73.187500  73.447502  74.949997  118387200.0  74.308266\n",
              "2020-01-07  75.224998  74.370003  74.959999  74.597504  108872000.0  73.958794\n",
              "\n",
              "[2016 rows x 6 columns]"
            ]
          },
          "metadata": {
            "tags": []
          },
          "execution_count": 5
        }
      ]
    },
    {
      "cell_type": "markdown",
      "metadata": {
        "id": "PBdAGWlEd5Df"
      },
      "source": [
        "## Getting the insights of the Data"
      ]
    },
    {
      "cell_type": "code",
      "metadata": {
        "colab": {
          "base_uri": "https://localhost:8080/"
        },
        "id": "wYY4k29ac88Y",
        "outputId": "cf7f43f0-2305-44a8-c262-8e992262b42b"
      },
      "source": [
        "df.shape"
      ],
      "execution_count": null,
      "outputs": [
        {
          "output_type": "execute_result",
          "data": {
            "text/plain": [
              "(2016, 6)"
            ]
          },
          "metadata": {
            "tags": []
          },
          "execution_count": 6
        }
      ]
    },
    {
      "cell_type": "markdown",
      "metadata": {
        "id": "VH9CTv7BeM3z"
      },
      "source": [
        "## Visualizing the closing price"
      ]
    },
    {
      "cell_type": "code",
      "metadata": {
        "colab": {
          "base_uri": "https://localhost:8080/",
          "height": 535
        },
        "id": "4KMoBD_feHB5",
        "outputId": "37500643-4374-4887-8f84-0bcaf1deeeca"
      },
      "source": [
        "plt.figure(figsize=(15,8))\r\n",
        "plt.title('CLose Price History')\r\n",
        "plt.plot(df['Close'])\r\n",
        "plt.xlabel('Date', fontsize=18)\r\n",
        "plt.ylabel('CLose Price USD ($)', fontsize=18)"
      ],
      "execution_count": null,
      "outputs": [
        {
          "output_type": "execute_result",
          "data": {
            "text/plain": [
              "Text(0, 0.5, 'CLose Price USD ($)')"
            ]
          },
          "metadata": {
            "tags": []
          },
          "execution_count": 9
        },
        {
          "output_type": "display_data",
          "data": {
            "image/png": "[encoded data removed]",
            "text/plain": [
              "<Figure size 1080x576 with 1 Axes>"
            ]
          },
          "metadata": {
            "tags": [],
            "needs_background": "light"
          }
        }
      ]
    },
    {
      "cell_type": "markdown",
      "metadata": {
        "id": "Hq3ta5i7fIY1"
      },
      "source": [
        "## Create a new dataframe with only the 'CLose Column'"
      ]
    },
    {
      "cell_type": "code",
      "metadata": {
        "id": "RkTh4SURet7j"
      },
      "source": [
        "data = df.filter(['Close'])"
      ],
      "execution_count": null,
      "outputs": []
    },
    {
      "cell_type": "markdown",
      "metadata": {
        "id": "YuiKSeWmfksP"
      },
      "source": [
        "## Convert the dataframe to a numpy array"
      ]
    },
    {
      "cell_type": "code",
      "metadata": {
        "id": "bTWP430Ifhoh"
      },
      "source": [
        "dataset = data.values"
      ],
      "execution_count": null,
      "outputs": []
    },
    {
      "cell_type": "markdown",
      "metadata": {
        "id": "poikUH9afvfJ"
      },
      "source": [
        "## Get the number of rows to train the model on"
      ]
    },
    {
      "cell_type": "code",
      "metadata": {
        "colab": {
          "base_uri": "https://localhost:8080/"
        },
        "id": "Wsno23DkfsvG",
        "outputId": "81fb598b-12ed-42cb-f5cd-7d92be31a112"
      },
      "source": [
        "training_data_len = math.ceil(len(dataset) * .8 )         # The math.ceil() method rounds a number UP to the nearest integer, if necessary, and returns the result.\r\n",
        "training_data_len"
      ],
      "execution_count": null,
      "outputs": [
        {
          "output_type": "execute_result",
          "data": {
            "text/plain": [
              "1613"
            ]
          },
          "metadata": {
            "tags": []
          },
          "execution_count": 12
        }
      ]
    },
    {
      "cell_type": "markdown",
      "metadata": {
        "id": "uKe3MbCPgZg_"
      },
      "source": [
        "## Scale the data \r\n",
        "\r\n",
        "Why do we need scaling ?\r\n",
        "\r\n",
        "  Machine learning algorithm just sees number — if there is a vast difference in the range say few ranging in thousands and few ranging in the tens, and it makes the underlying assumption that higher ranging numbers have superiority of some sort. So these more significant number starts playing a more decisive role while training the model."
      ]
    },
    {
      "cell_type": "code",
      "metadata": {
        "colab": {
          "base_uri": "https://localhost:8080/"
        },
        "id": "DBbrQXsXgOoq",
        "outputId": "691a501c-d72a-4c97-b151-fcbc8e502a20"
      },
      "source": [
        "scaler = MinMaxScaler(feature_range=(0,1))\r\n",
        "scaled_data = scaler.fit_transform(dataset)\r\n",
        "\r\n",
        "scaled_data"
      ],
      "execution_count": null,
      "outputs": [
        {
          "output_type": "execute_result",
          "data": {
            "text/plain": [
              "array([[0.01209168],\n",
              "       [0.01338262],\n",
              "       [0.01606383],\n",
              "       ...,\n",
              "       [0.98806014],\n",
              "       [0.99775099],\n",
              "       [0.99198564]])"
            ]
          },
          "metadata": {
            "tags": []
          },
          "execution_count": 13
        }
      ]
    },
    {
      "cell_type": "markdown",
      "metadata": {
        "id": "cyN_dW8Uh1ju"
      },
      "source": [
        "##  Create the training dataset\r\n"
      ]
    },
    {
      "cell_type": "code",
      "metadata": {
        "colab": {
          "base_uri": "https://localhost:8080/"
        },
        "id": "JiYT1R5GhyHU",
        "outputId": "0bd12207-b390-4838-b6f0-481ace60bcac"
      },
      "source": [
        "# Create the sceled training dataset\r\n",
        "train_data = scaled_data[0:training_data_len, :]\r\n",
        "\r\n",
        "# Split the data into x_train and y_train dataset\r\n",
        "x_train = []\r\n",
        "y_train = []\r\n",
        "\r\n",
        "# Creating the bacth of 60 for dataset\r\n",
        "\r\n",
        "for i in range(60, len(train_data)):\r\n",
        "  x_train.append(train_data[i-60:i, 0])                           # Contains pas 60 values for training\r\n",
        "  y_train.append(train_data[i, 0])                                # Contains the 61 value we want our model to predict\r\n",
        "  if i<= 61:\r\n",
        "    print(x_train)\r\n",
        "    print(y_train)\r\n",
        "    print()"
      ],
      "execution_count": null,
      "outputs": [
        {
          "output_type": "stream",
          "text": [
            "[array([0.01209168, 0.01338262, 0.01606383, 0.01861652, 0.01822515,\n",
            "       0.01910719, 0.01870414, 0.01802653, 0.01710359, 0.01996004,\n",
            "       0.0225361 , 0.02174167, 0.01738982, 0.02154306, 0.01745408,\n",
            "       0.03278774, 0.03160195, 0.03314992, 0.03649702, 0.03852398,\n",
            "       0.03835458, 0.03772956, 0.04039324, 0.04289918, 0.04573812,\n",
            "       0.05032362, 0.05995607, 0.0601021 , 0.06546452, 0.06947169,\n",
            "       0.06258471, 0.06523669, 0.06518412, 0.07262022, 0.07156291,\n",
            "       0.07351977, 0.07703629, 0.07899318, 0.08463012, 0.0887366 ,\n",
            "       0.08992241, 0.09033716, 0.08331582, 0.08162179, 0.08187299,\n",
            "       0.08847377, 0.09033133, 0.09432101, 0.10372563, 0.11627296,\n",
            "       0.11392471, 0.11393054, 0.12300224, 0.12584118, 0.12382002,\n",
            "       0.12197416, 0.12005234, 0.12643697, 0.13081803, 0.13265223])]\n",
            "[0.1281192940788681]\n",
            "\n",
            "[array([0.01209168, 0.01338262, 0.01606383, 0.01861652, 0.01822515,\n",
            "       0.01910719, 0.01870414, 0.01802653, 0.01710359, 0.01996004,\n",
            "       0.0225361 , 0.02174167, 0.01738982, 0.02154306, 0.01745408,\n",
            "       0.03278774, 0.03160195, 0.03314992, 0.03649702, 0.03852398,\n",
            "       0.03835458, 0.03772956, 0.04039324, 0.04289918, 0.04573812,\n",
            "       0.05032362, 0.05995607, 0.0601021 , 0.06546452, 0.06947169,\n",
            "       0.06258471, 0.06523669, 0.06518412, 0.07262022, 0.07156291,\n",
            "       0.07351977, 0.07703629, 0.07899318, 0.08463012, 0.0887366 ,\n",
            "       0.08992241, 0.09033716, 0.08331582, 0.08162179, 0.08187299,\n",
            "       0.08847377, 0.09033133, 0.09432101, 0.10372563, 0.11627296,\n",
            "       0.11392471, 0.11393054, 0.12300224, 0.12584118, 0.12382002,\n",
            "       0.12197416, 0.12005234, 0.12643697, 0.13081803, 0.13265223]), array([0.01338262, 0.01606383, 0.01861652, 0.01822515, 0.01910719,\n",
            "       0.01870414, 0.01802653, 0.01710359, 0.01996004, 0.0225361 ,\n",
            "       0.02174167, 0.01738982, 0.02154306, 0.01745408, 0.03278774,\n",
            "       0.03160195, 0.03314992, 0.03649702, 0.03852398, 0.03835458,\n",
            "       0.03772956, 0.04039324, 0.04289918, 0.04573812, 0.05032362,\n",
            "       0.05995607, 0.0601021 , 0.06546452, 0.06947169, 0.06258471,\n",
            "       0.06523669, 0.06518412, 0.07262022, 0.07156291, 0.07351977,\n",
            "       0.07703629, 0.07899318, 0.08463012, 0.0887366 , 0.08992241,\n",
            "       0.09033716, 0.08331582, 0.08162179, 0.08187299, 0.08847377,\n",
            "       0.09033133, 0.09432101, 0.10372563, 0.11627296, 0.11392471,\n",
            "       0.11393054, 0.12300224, 0.12584118, 0.12382002, 0.12197416,\n",
            "       0.12005234, 0.12643697, 0.13081803, 0.13265223, 0.12811929])]\n",
            "[0.1281192940788681, 0.12209682686013515]\n",
            "\n"
          ],
          "name": "stdout"
        }
      ]
    },
    {
      "cell_type": "markdown",
      "metadata": {
        "id": "45izo2xBj_UR"
      },
      "source": [
        "## Convert the x-train and y_train to numpy array to use them for training the LSTM model."
      ]
    },
    {
      "cell_type": "code",
      "metadata": {
        "id": "CQf3TGLujC71"
      },
      "source": [
        "x_train, y_train = np.array(x_train), np.array(y_train)"
      ],
      "execution_count": null,
      "outputs": []
    },
    {
      "cell_type": "markdown",
      "metadata": {
        "id": "0sWv76uBkT_g"
      },
      "source": [
        "## Reshape the data\r\n",
        " \r\n",
        " Why we need to reshape?\r\n",
        " \r\n",
        " LSTM model excepts the input data in 3-d, i.e in the form of number of samples, number of timestamps and number of features. But our data is 2-d."
      ]
    },
    {
      "cell_type": "code",
      "metadata": {
        "colab": {
          "base_uri": "https://localhost:8080/"
        },
        "id": "X5mEO5SOkS0t",
        "outputId": "89691e3d-9ff5-45ce-c40e-a2697a2d9912"
      },
      "source": [
        "x_train = np.reshape(x_train, (x_train.shape[0], x_train.shape[1], 1))\r\n",
        "x_train.shape"
      ],
      "execution_count": null,
      "outputs": [
        {
          "output_type": "execute_result",
          "data": {
            "text/plain": [
              "(1553, 60, 1)"
            ]
          },
          "metadata": {
            "tags": []
          },
          "execution_count": 19
        }
      ]
    },
    {
      "cell_type": "markdown",
      "metadata": {
        "id": "g8l6GTwjlfJd"
      },
      "source": [
        "## Build the LSTM model"
      ]
    },
    {
      "cell_type": "code",
      "metadata": {
        "id": "ry70MenulCPu"
      },
      "source": [
        "model = Sequential()\r\n",
        "\r\n",
        "model.add(LSTM(50, return_sequences=True, input_shape = (x_train.shape[1], 1)))\r\n",
        "model.add(LSTM(50, return_sequences = False))\r\n",
        "model.add(Dense(25))\r\n",
        "model.add(Dense(1))"
      ],
      "execution_count": null,
      "outputs": []
    },
    {
      "cell_type": "markdown",
      "metadata": {
        "id": "vkcstLU-mHOr"
      },
      "source": [
        "## Compile model"
      ]
    },
    {
      "cell_type": "code",
      "metadata": {
        "id": "B3GxJLSDl-E2"
      },
      "source": [
        "model.compile(optimizer='adam', loss='mean_squared_error')          # Optimizer is used to improve the loss. Loss function is used to see how well our model performed.\r\n"
      ],
      "execution_count": null,
      "outputs": []
    },
    {
      "cell_type": "markdown",
      "metadata": {
        "id": "vluxgB6cmnJd"
      },
      "source": [
        "## Train the model"
      ]
    },
    {
      "cell_type": "code",
      "metadata": {
        "colab": {
          "base_uri": "https://localhost:8080/"
        },
        "id": "8gpJrminml8K",
        "outputId": "98db3186-7797-4ece-c0a0-9d51d8d657ae"
      },
      "source": [
        "model.fit(x_train, y_train, batch_size=1, epochs=1)                 # Epochs is the number of iterations the models goes through the data"
      ],
      "execution_count": null,
      "outputs": [
        {
          "output_type": "stream",
          "text": [
            "1553/1553 [==============================] - 36s 21ms/step - loss: 0.0014\n"
          ],
          "name": "stdout"
        },
        {
          "output_type": "execute_result",
          "data": {
            "text/plain": [
              "<tensorflow.python.keras.callbacks.History at 0x7fc7c47894a8>"
            ]
          },
          "metadata": {
            "tags": []
          },
          "execution_count": 23
        }
      ]
    },
    {
      "cell_type": "markdown",
      "metadata": {
        "id": "_8ynQQUenM6r"
      },
      "source": [
        "## Create a testing dataset"
      ]
    },
    {
      "cell_type": "code",
      "metadata": {
        "id": "Xy0BIRe9m8r4"
      },
      "source": [
        "# Create a  new array contaning scaled  values from index 1553 to 2003\r\n",
        "test_data = scaled_data[training_data_len - 60:, :]\r\n",
        "\r\n",
        "# Create the datasets x_test and y_test\r\n",
        "x_test = []\r\n",
        "y_test = dataset[training_data_len:, : ]\r\n",
        "\r\n",
        "for i in range(60, len(test_data)):\r\n",
        "  x_test.append(test_data[i-60 : i, 0])\r\n",
        "  "
      ],
      "execution_count": null,
      "outputs": []
    },
    {
      "cell_type": "markdown",
      "metadata": {
        "id": "DUlvHDj9oOIg"
      },
      "source": [
        "## Convert the data to a numpy array"
      ]
    },
    {
      "cell_type": "code",
      "metadata": {
        "id": "idFiyJ8WoHQY"
      },
      "source": [
        "x_test = np.array(x_test)"
      ],
      "execution_count": null,
      "outputs": []
    },
    {
      "cell_type": "markdown",
      "metadata": {
        "id": "kQFPTqOCoXZl"
      },
      "source": [
        "## Reshape the data"
      ]
    },
    {
      "cell_type": "code",
      "metadata": {
        "id": "ncllgMhFoVlT"
      },
      "source": [
        "x_test = np.reshape(x_test, (x_test.shape[0], x_test.shape[1], 1))"
      ],
      "execution_count": null,
      "outputs": []
    },
    {
      "cell_type": "markdown",
      "metadata": {
        "id": "90g0v9FqowXo"
      },
      "source": [
        "## Get the models predicted price values"
      ]
    },
    {
      "cell_type": "code",
      "metadata": {
        "id": "yErFUrYrotbJ"
      },
      "source": [
        "predictions = model.predict(x_test)\r\n",
        "predictions = scaler.inverse_transform(predictions)\r\n"
      ],
      "execution_count": null,
      "outputs": []
    },
    {
      "cell_type": "markdown",
      "metadata": {
        "id": "ehDJdio9pLET"
      },
      "source": [
        "## Evaluate the Model\r\n",
        "\r\n",
        "Get the Root mean squared error (RMSE). Lower the better the model"
      ]
    },
    {
      "cell_type": "code",
      "metadata": {
        "colab": {
          "base_uri": "https://localhost:8080/"
        },
        "id": "xkdSfQ-7pKeE",
        "outputId": "a592ca97-c56f-4d2b-a8af-045d9e71d4cb"
      },
      "source": [
        "rmse = np.sqrt(np.mean(predictions- y_test)**2)\r\n",
        "rmse"
      ],
      "execution_count": null,
      "outputs": [
        {
          "output_type": "execute_result",
          "data": {
            "text/plain": [
              "0.447973379130399"
            ]
          },
          "metadata": {
            "tags": []
          },
          "execution_count": 28
        }
      ]
    },
    {
      "cell_type": "markdown",
      "metadata": {
        "id": "_N4_2RFOp5Sc"
      },
      "source": [
        "## PLot the data"
      ]
    },
    {
      "cell_type": "code",
      "metadata": {
        "colab": {
          "base_uri": "https://localhost:8080/",
          "height": 729
        },
        "id": "TTqxij4ypfi3",
        "outputId": "a0cb79dd-3d9e-46fe-c825-acf5f356a63f"
      },
      "source": [
        "train = data[:training_data_len]\r\n",
        "valid = data[training_data_len:]\r\n",
        "valid['Predictions'] = predictions\r\n",
        "\r\n",
        "# Visualize the data\r\n",
        "\r\n",
        "plt.figure(figsize=(15,10))\r\n",
        "plt.title('Model')\r\n",
        "plt.xlabel('Date', fontsize=18)\r\n",
        "plt.ylabel('Close price USD($)', fontsize=18)\r\n",
        "plt.plot(train['Close'])\r\n",
        "plt.plot(valid[['Close', 'Predictions']])\r\n",
        "plt.legend(['Train', 'Val', 'Predictions'], loc='lower right')\r\n",
        "plt.show()"
      ],
      "execution_count": null,
      "outputs": [
        {
          "output_type": "stream",
          "text": [
            "/usr/local/lib/python3.6/dist-packages/ipykernel_launcher.py:3: SettingWithCopyWarning: \n",
            "A value is trying to be set on a copy of a slice from a DataFrame.\n",
            "Try using .loc[row_indexer,col_indexer] = value instead\n",
            "\n",
            "See the caveats in the documentation: https://pandas.pydata.org/pandas-docs/stable/user_guide/indexing.html#returning-a-view-versus-a-copy\n",
            "  This is separate from the ipykernel package so we can avoid doing imports until\n"
          ],
          "name": "stderr"
        },
        {
          "output_type": "display_data",
          "data": {
            "image/png": "[encoded data removed]",
            "text/plain": [
              "<Figure size 1080x720 with 1 Axes>"
            ]
          },
          "metadata": {
            "tags": [],
            "needs_background": "light"
          }
        }
      ]
    },
    {
      "cell_type": "markdown",
      "metadata": {
        "id": "9dMZVRxjrP8G"
      },
      "source": [
        "## Show the valid and predicted price"
      ]
    },
    {
      "cell_type": "code",
      "metadata": {
        "colab": {
          "base_uri": "https://localhost:8080/",
          "height": 450
        },
        "id": "SgqB4WoGrT4I",
        "outputId": "68d8c699-66a2-459f-8122-c3894c28cb41"
      },
      "source": [
        "valid"
      ],
      "execution_count": null,
      "outputs": [
        {
          "output_type": "execute_result",
          "data": {
            "text/html": [
              "<div>\n",
              "<style scoped>\n",
              "    .dataframe tbody tr th:only-of-type {\n",
              "        vertical-align: middle;\n",
              "    }\n",
              "\n",
              "    .dataframe tbody tr th {\n",
              "        vertical-align: top;\n",
              "    }\n",
              "\n",
              "    .dataframe thead th {\n",
              "        text-align: right;\n",
              "    }\n",
              "</style>\n",
              "<table border=\"1\" class=\"dataframe\">\n",
              "  <thead>\n",
              "    <tr style=\"text-align: right;\">\n",
              "      <th></th>\n",
              "      <th>Close</th>\n",
              "      <th>Predictions</th>\n",
              "    </tr>\n",
              "    <tr>\n",
              "      <th>Date</th>\n",
              "      <th></th>\n",
              "      <th></th>\n",
              "    </tr>\n",
              "  </thead>\n",
              "  <tbody>\n",
              "    <tr>\n",
              "      <th>2018-06-01</th>\n",
              "      <td>47.560001</td>\n",
              "      <td>47.141636</td>\n",
              "    </tr>\n",
              "    <tr>\n",
              "      <th>2018-06-04</th>\n",
              "      <td>47.957500</td>\n",
              "      <td>47.207554</td>\n",
              "    </tr>\n",
              "    <tr>\n",
              "      <th>2018-06-05</th>\n",
              "      <td>48.327499</td>\n",
              "      <td>47.340706</td>\n",
              "    </tr>\n",
              "    <tr>\n",
              "      <th>2018-06-06</th>\n",
              "      <td>48.494999</td>\n",
              "      <td>47.528442</td>\n",
              "    </tr>\n",
              "    <tr>\n",
              "      <th>2018-06-07</th>\n",
              "      <td>48.365002</td>\n",
              "      <td>47.737545</td>\n",
              "    </tr>\n",
              "    <tr>\n",
              "      <th>...</th>\n",
              "      <td>...</td>\n",
              "      <td>...</td>\n",
              "    </tr>\n",
              "    <tr>\n",
              "      <th>2019-12-31</th>\n",
              "      <td>73.412498</td>\n",
              "      <td>68.729004</td>\n",
              "    </tr>\n",
              "    <tr>\n",
              "      <th>2020-01-02</th>\n",
              "      <td>75.087502</td>\n",
              "      <td>69.100639</td>\n",
              "    </tr>\n",
              "    <tr>\n",
              "      <th>2020-01-03</th>\n",
              "      <td>74.357498</td>\n",
              "      <td>69.597466</td>\n",
              "    </tr>\n",
              "    <tr>\n",
              "      <th>2020-01-06</th>\n",
              "      <td>74.949997</td>\n",
              "      <td>70.005478</td>\n",
              "    </tr>\n",
              "    <tr>\n",
              "      <th>2020-01-07</th>\n",
              "      <td>74.597504</td>\n",
              "      <td>70.391777</td>\n",
              "    </tr>\n",
              "  </tbody>\n",
              "</table>\n",
              "<p>403 rows × 2 columns</p>\n",
              "</div>"
            ],
            "text/plain": [
              "                Close  Predictions\n",
              "Date                              \n",
              "2018-06-01  47.560001    47.141636\n",
              "2018-06-04  47.957500    47.207554\n",
              "2018-06-05  48.327499    47.340706\n",
              "2018-06-06  48.494999    47.528442\n",
              "2018-06-07  48.365002    47.737545\n",
              "...               ...          ...\n",
              "2019-12-31  73.412498    68.729004\n",
              "2020-01-02  75.087502    69.100639\n",
              "2020-01-03  74.357498    69.597466\n",
              "2020-01-06  74.949997    70.005478\n",
              "2020-01-07  74.597504    70.391777\n",
              "\n",
              "[403 rows x 2 columns]"
            ]
          },
          "metadata": {
            "tags": []
          },
          "execution_count": 30
        }
      ]
    },
    {
      "cell_type": "markdown",
      "metadata": {
        "id": "4xSnSr_GrmJW"
      },
      "source": [
        "# Get the quote"
      ]
    },
    {
      "cell_type": "code",
      "metadata": {
        "colab": {
          "base_uri": "https://localhost:8080/"
        },
        "id": "-n3VwsQArVIN",
        "outputId": "b0afa39b-691e-4347-d1a5-47a19f79bd43"
      },
      "source": [
        "apple_quote = web.DataReader('AAPL', data_source='yahoo', start='2012-01-01', end='2019-12-17')\r\n",
        "# Create a new dataframe\r\n",
        "new_df = apple_quote.filter(['Close'])\r\n",
        "\r\n",
        "# Get the last 60 day closing price values and convert the dataframe to an array\r\n",
        "last_60_days = new_df[-60:].values\r\n",
        "\r\n",
        "# Scale the data  to be values between 0 and 1\r\n",
        "last_60_days_scaled = scaler.transform(last_60_days)\r\n",
        "\r\n",
        "# Create an emty list\r\n",
        "X_test = []\r\n",
        " \r\n",
        "# APpend the past 60 days \r\n",
        "X_test.append(last_60_days_scaled)\r\n",
        "\r\n",
        "# Convert the X_test dataset to a numpy array\r\n",
        "X_test = np.array(X_test)\r\n",
        "\r\n",
        "# Reshape the data\r\n",
        "X_test = np.reshape(X_test,(X_test.shape[0], X_test.shape[1], 1))\r\n",
        "\r\n",
        "# Get the predicted scaled price \r\n",
        "pred_price = model.predict(X_test)\r\n",
        "\r\n",
        "# Undo the scaling\r\n",
        "pred_price = scaler.inverse_transform(pred_price)\r\n",
        "print(pred_price)\r\n"
      ],
      "execution_count": null,
      "outputs": [
        {
          "output_type": "stream",
          "text": [
            "[[66.259125]]\n"
          ],
          "name": "stdout"
        }
      ]
    },
    {
      "cell_type": "code",
      "metadata": {
        "id": "KvybRpdcuYEk",
        "colab": {
          "base_uri": "https://localhost:8080/"
        },
        "outputId": "9e88578d-b132-44a5-ed0b-8c8dd2f3fbe2"
      },
      "source": [
        "apple_quote_2 = web.DataReader('AAPL', data_source='yahoo', start='2019-12-18', end='2019-12-18')\r\n",
        "print(apple_quote_2['Close'])"
      ],
      "execution_count": null,
      "outputs": [
        {
          "output_type": "stream",
          "text": [
            "Date\n",
            "2019-12-18    69.934998\n",
            "Name: Close, dtype: float64\n"
          ],
          "name": "stdout"
        }
      ]
    },
    {
      "cell_type": "code",
      "metadata": {
        "id": "lf0uGAU6u9mF"
      },
      "source": [
        ""
      ],
      "execution_count": null,
      "outputs": []
    }
  ]
}